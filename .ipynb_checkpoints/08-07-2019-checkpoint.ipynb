{
 "cells": [
  {
   "cell_type": "code",
   "execution_count": 1,
   "metadata": {},
   "outputs": [
    {
     "name": "stdout",
     "output_type": "stream",
     "text": [
      "6 12 18 24 30 36 42 48 54 60 66 72 78 84 90 96 "
     ]
    }
   ],
   "source": [
    "###Function to print all numbers divisible by 6 and not a factor of 100 in a given range(lb, ub) inclusive\n",
    "def factorof6(lb,ub):\n",
    "    for i in range(lb,ub+1):\n",
    "        if i%6==0 and 100%i!=0:\n",
    "            print(i,end=\" \")\n",
    "factorof6(1,100)"
   ]
  },
  {
   "cell_type": "code",
   "execution_count": 2,
   "metadata": {},
   "outputs": [
    {
     "data": {
      "text/plain": [
       "260100.0"
      ]
     },
     "execution_count": 2,
     "metadata": {},
     "output_type": "execute_result"
    }
   ],
   "source": [
    "### Function to find the average of cubes of all even numbers in a given range(lb, ub) inclusive\n",
    "def avgevencube(lb,ub):\n",
    "    s=0\n",
    "    c=0\n",
    "    for i in range(lb,ub+1):\n",
    "        if i%2==0:\n",
    "            s+=i**3\n",
    "            c+=1\n",
    "    return(s/c)\n",
    "avgevencube(1,100)\n",
    "            "
   ]
  },
  {
   "cell_type": "code",
   "execution_count": 3,
   "metadata": {},
   "outputs": [
    {
     "data": {
      "text/plain": [
       "[1, 2, 5, 10, 19, 38, 95, 190]"
      ]
     },
     "execution_count": 3,
     "metadata": {},
     "output_type": "execute_result"
    }
   ],
   "source": [
    "### Function to generate the list of factors for a given number\n",
    "def Fac(n):\n",
    "    l=[]\n",
    "    for i in range(1,n+1):\n",
    "        if n%i==0:\n",
    "            l.append(i)\n",
    "    return l\n",
    "Fac(190)"
   ]
  },
  {
   "cell_type": "code",
   "execution_count": 4,
   "metadata": {},
   "outputs": [
    {
     "data": {
      "text/plain": [
       "120"
      ]
     },
     "execution_count": 4,
     "metadata": {},
     "output_type": "execute_result"
    }
   ],
   "source": [
    "### Function to calculate the factorial of a given number\n",
    "def Factorial(n):\n",
    "    f=1\n",
    "    for i in range(n,1,-1):\n",
    "        f*=i\n",
    "    return f\n",
    "Factorial(5)"
   ]
  },
  {
   "cell_type": "code",
   "execution_count": 5,
   "metadata": {},
   "outputs": [
    {
     "data": {
      "text/plain": [
       "False"
      ]
     },
     "execution_count": 5,
     "metadata": {},
     "output_type": "execute_result"
    }
   ],
   "source": [
    "### Function to check if a given number is Prime\n",
    "def isPrime(n):\n",
    "    c=0\n",
    "    for i in range(1,n+1):\n",
    "        if n%i==0:\n",
    "            c+=1\n",
    "    if c==2:\n",
    "        return True\n",
    "    else:\n",
    "        return False\n",
    "isPrime(9)"
   ]
  },
  {
   "cell_type": "code",
   "execution_count": 8,
   "metadata": {},
   "outputs": [
    {
     "name": "stdout",
     "output_type": "stream",
     "text": [
      "Enter the number:10\n",
      "2 3 5 7 11 13 17 19 23 29 "
     ]
    }
   ],
   "source": [
    "### Function to calculate the average first N Prime numbers\n",
    "i=1\n",
    "x = int(input(\"Enter the number:\"))\n",
    "counter = 0\n",
    "while True:\n",
    "    c=0;\n",
    "    for j in range (1, (i+1), 1):\n",
    "        a = i%j\n",
    "        if (a==0):\n",
    "            c = c+1\n",
    "    if (c==2):\n",
    "        print (i,end=\" \")\n",
    "        counter = counter + 1\n",
    "        if counter >= x:\n",
    "            break\n",
    "    i=i+1"
   ]
  },
  {
   "cell_type": "code",
   "execution_count": 13,
   "metadata": {},
   "outputs": [
    {
     "data": {
      "text/plain": [
       "True"
      ]
     },
     "execution_count": 13,
     "metadata": {},
     "output_type": "execute_result"
    }
   ],
   "source": [
    "### Function to generate all Perfect numbers in a given range\n",
    "def isPerfect(n):\n",
    "    l=Fac(n)\n",
    "    l=l[0:-1]\n",
    "    if sum(l)==n:\n",
    "        return True\n",
    "    else:\n",
    "        return False\n",
    "isPerfect(6)"
   ]
  },
  {
   "cell_type": "code",
   "execution_count": 20,
   "metadata": {},
   "outputs": [
    {
     "name": "stdout",
     "output_type": "stream",
     "text": [
      "6\n",
      "28\n",
      "496\n",
      "8128\n"
     ]
    }
   ],
   "source": [
    "def perfectInRange(lb,ub):\n",
    "    for i in range(lb,ub+1):\n",
    "        if isPerfect(i):\n",
    "            print(i)\n",
    "perfectInRange(1,10000)"
   ]
  },
  {
   "cell_type": "code",
   "execution_count": 22,
   "metadata": {},
   "outputs": [
    {
     "data": {
      "text/plain": [
       "807552.0"
      ]
     },
     "execution_count": 22,
     "metadata": {},
     "output_type": "execute_result"
    }
   ],
   "source": [
    "### Function to calculate the average of all factorials in a given range\n",
    "def AvgFactorial(lb,ub):\n",
    "    s=0\n",
    "    c=0\n",
    "    for i in range(lb,ub+1):\n",
    "        s+=Factorial(i)\n",
    "        c+=1\n",
    "    return (s/c)\n",
    "AvgFactorial(6,10)"
   ]
  },
  {
   "cell_type": "code",
   "execution_count": 26,
   "metadata": {},
   "outputs": [
    {
     "data": {
      "text/plain": [
       "3"
      ]
     },
     "execution_count": 26,
     "metadata": {},
     "output_type": "execute_result"
    }
   ],
   "source": [
    "def Digit(n):\n",
    "    c=0\n",
    "    while n!=0:\n",
    "        c+=1\n",
    "        n=n//10\n",
    "    return(c)\n",
    "Digit(123)\n",
    "   "
   ]
  },
  {
   "cell_type": "code",
   "execution_count": 30,
   "metadata": {},
   "outputs": [
    {
     "data": {
      "text/plain": [
       "True"
      ]
     },
     "execution_count": 30,
     "metadata": {},
     "output_type": "execute_result"
    }
   ],
   "source": [
    "def isArmstrong(n):\n",
    "    s=0\n",
    "    c=Digit(n)\n",
    "    m=n\n",
    "    while m!=0:\n",
    "        s+=(m%10)**c\n",
    "        m=m//10\n",
    "    if(s==n):\n",
    "        return True\n",
    "    else:\n",
    "        return False\n",
    "isArmstrong(153)"
   ]
  },
  {
   "cell_type": "code",
   "execution_count": null,
   "metadata": {},
   "outputs": [],
   "source": [
    "i=1\n",
    "x = int(input(\"Enter the number:\"))\n",
    "counter = 0\n",
    "while True:\n",
    "    c=0;\n",
    "    for j in range (1, (i+1), 1):\n",
    "        if isArmstrong(i):\n",
    "            print (i,end=\" \")\n",
    "            counter = counter + 1\n",
    "            if counter >= x:\n",
    "                break"
   ]
  },
  {
   "cell_type": "code",
   "execution_count": 36,
   "metadata": {},
   "outputs": [
    {
     "name": "stdout",
     "output_type": "stream",
     "text": [
      "5\n",
      "6\n",
      "10\n",
      "5 X 6 =30\n",
      "5 X 7 =35\n",
      "5 X 8 =40\n",
      "5 X 9 =45\n",
      "5 X 10 =50\n"
     ]
    }
   ],
   "source": [
    "### Function to generate Multiplication table for a number in a given range\n",
    "### 10 in the range(100, 102) inclusive\n",
    "#### 10 x 100 = 1000\n",
    "#### 10 x 101 = 1010\n",
    "#### 10 x 102 = 1020\n",
    "n=int(input())\n",
    "lb=int(input())\n",
    "ub=int(input())\n",
    "for i in range(lb,ub+1):\n",
    "    print(str(n)+\" X \"+str(i)+\" =\"+str(n*i))\n",
    "    "
   ]
  },
  {
   "cell_type": "code",
   "execution_count": 41,
   "metadata": {},
   "outputs": [
    {
     "name": "stdout",
     "output_type": "stream",
     "text": [
      "@Abhi\n",
      "@aBHI\n"
     ]
    }
   ],
   "source": [
    "### You are given a string and your task is to swap cases. In other words, convert all lowercase letters to uppercase letters and vice versa. (The String may contain special characters).\n",
    "s=input()\n",
    "s1=\"\"\n",
    "for i in s:\n",
    "    if i.isalpha():\n",
    "        if i.islower():\n",
    "            s1+=i.upper()\n",
    "        else:\n",
    "            s1+=i.lower()\n",
    "    else:\n",
    "        s1+=i\n",
    "print(s1)"
   ]
  },
  {
   "cell_type": "code",
   "execution_count": 43,
   "metadata": {},
   "outputs": [
    {
     "name": "stdout",
     "output_type": "stream",
     "text": [
      "5\n",
      "Weird\n"
     ]
    }
   ],
   "source": [
    "### Given an integer, ’n’ , perform the following conditional actions:\n",
    "#### If ‘n’  is odd, print Weird\n",
    "#### If  ‘n’ is even and in the inclusive range of 2 to 5, print Not Weird\n",
    "#### If  ‘n’ is even and in the inclusive range of 6 to 20 , print Weird\n",
    "#### If  ‘n’ is even and greater than 20, print Not Weird\n",
    "n=int(input())\n",
    "if n%2!=0:\n",
    "    print(\"Weird\")\n",
    "else:\n",
    "    if n in range(2,6):\n",
    "        print(\"Not Weird\")\n",
    "    elif n in range(6,21):\n",
    "        print(\"Weird\")\n",
    "    else:\n",
    "        print(\"Not Weird\")"
   ]
  },
  {
   "cell_type": "code",
   "execution_count": 45,
   "metadata": {},
   "outputs": [
    {
     "name": "stdout",
     "output_type": "stream",
     "text": [
      "5\n",
      "1\n",
      "1\n",
      "1\n",
      "2\n",
      "2\n",
      "[1, 2]\n"
     ]
    }
   ],
   "source": [
    "### Given the participants ‘n’ score sheet for your University Sports Day, you are required to find the runner-up score. You are given scores. Store them in a list and find the score of the runner-up. (there can be multiple winners - if their scores match).\n",
    "n=int(input())\n",
    "l=[]\n",
    "u=[]\n",
    "for i in range(n):\n",
    "    l.append(int(input()))\n",
    "for i in l:\n",
    "    if i not in u:\n",
    "        u.append(i)\n",
    "print(u)"
   ]
  },
  {
   "cell_type": "code",
   "execution_count": null,
   "metadata": {},
   "outputs": [],
   "source": []
  }
 ],
 "metadata": {
  "kernelspec": {
   "display_name": "Python 3",
   "language": "python",
   "name": "python3"
  },
  "language_info": {
   "codemirror_mode": {
    "name": "ipython",
    "version": 3
   },
   "file_extension": ".py",
   "mimetype": "text/x-python",
   "name": "python",
   "nbconvert_exporter": "python",
   "pygments_lexer": "ipython3",
   "version": "3.7.3"
  }
 },
 "nbformat": 4,
 "nbformat_minor": 2
}
