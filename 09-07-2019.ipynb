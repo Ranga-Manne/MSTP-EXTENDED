{
 "cells": [
  {
   "cell_type": "code",
   "execution_count": 2,
   "metadata": {},
   "outputs": [
    {
     "name": "stdout",
     "output_type": "stream",
     "text": [
      "1401601500\n",
      "Illegal ISBN\n"
     ]
    }
   ],
   "source": [
    "'''\n",
    "Harry wants to find Voldemort's potion making book but he is confused about how to get it.\n",
    "\n",
    "The book has a special ISBN(International Standard Book Number) which is  unique numeric book identifier only for Voldemort's book printed on it. The ISBN is based upon a 10-digit code. The ISBN is valid if:\n",
    "1xdigit1 + 2xdigit2 + 3xdigit3 + 4xdigit4 + 5xdigit5 + 6xdigit6 + 7xdigit7 + 8xdigit8 + 9xdigit9 + 10xdigit10 is divisible by 11.\n",
    "Help Harry to find the book!\n",
    "Input:\n",
    " Input the ISBN code as a 10-digit integer.\n",
    "\n",
    "Output:\n",
    "If the ISBN is not a 10-digit integer, output the message “Illegal ISBN” and terminate the program.\n",
    "If the number is 10-digit, extract the digits of the number and compute the sum as explained in the explanation.\n",
    "If the sum is divisible by 11, output the message, “Legal ISBN”. If the sum is not divisible by 11, output the message, “Illegal ISBN”.\n",
    "\n",
    "SAMPLE INPUT : 1401601499\n",
    "SAMPLE OUTPUT : Legal ISBN'''\n",
    "n=int(input())\n",
    "if len(str(n))!=10:\n",
    "    print(\"Illegal ISBN\")\n",
    "else:\n",
    "    s=0\n",
    "    for i in range(10,0,-1):\n",
    "        s+=(n%10)*i\n",
    "        n=n//10\n",
    "    if(s%11!=0):\n",
    "        print(\"Illegal ISBN\")\n",
    "    else:\n",
    "        print(\"Legal ISBN\")"
   ]
  },
  {
   "cell_type": "code",
   "execution_count": 24,
   "metadata": {},
   "outputs": [
    {
     "name": "stdout",
     "output_type": "stream",
     "text": [
      "Enter the no.of the players5\n",
      "Enter Name of the person :devi\n",
      "Enter score made by devi :15\n",
      "Enter Name of the person :ramesh\n",
      "Enter score made by ramesh :14\n",
      "Enter Name of the person :subbu\n",
      "Enter score made by subbu :16\n",
      "Enter Name of the person :nrk\n",
      "Enter score made by nrk :13\n",
      "Enter Name of the person :deepu\n",
      "Enter score made by deepu :18\n",
      "{'deepu': 1, 'subbu': 2, 'devi': 3, 'ramesh': 4, 'nrk': 5}\n"
     ]
    }
   ],
   "source": [
    "# read all the sports persons and dislay winner name and score by using dictionaries\n",
    "scores={}\n",
    "Rank={}\n",
    "n=int(input(\"Enter the no.of the players\"))\n",
    "for i in range(n):\n",
    "    name=input(\"Enter Name of the person :\")\n",
    "    s=int(input(\"Enter score made by \"+name+\" :\"))\n",
    "    scores[name]=s\n",
    "s=list(scores.values())\n",
    "s=sorted(s,reverse=True)\n",
    "k=0\n",
    "for i in s:\n",
    "    k=k+1\n",
    "    for j in scores.items():\n",
    "        if i==j[1]:\n",
    "            Rank[j[0]]=k\n",
    "print(Rank)"
   ]
  },
  {
   "cell_type": "code",
   "execution_count": 30,
   "metadata": {},
   "outputs": [
    {
     "name": "stdout",
     "output_type": "stream",
     "text": [
      "10\n",
      "15\n",
      "1,5,"
     ]
    }
   ],
   "source": [
    "import myModule as m\n",
    "m.cFac()"
   ]
  },
  {
   "cell_type": "code",
   "execution_count": 32,
   "metadata": {},
   "outputs": [
    {
     "name": "stdout",
     "output_type": "stream",
     "text": [
      "10\n",
      "15\n",
      "2\n"
     ]
    }
   ],
   "source": [
    "# given two integers find out the numberof common factors\n",
    "def cFacotr():\n",
    "    n=int(input())\n",
    "    m=int(input())\n",
    "    c=0\n",
    "    for i in range (1,min(n,m)+1):\n",
    "        if n%i==0 and m%i==0:\n",
    "            c+=1\n",
    "    print(c)\n",
    "cFacotr()"
   ]
  },
  {
   "cell_type": "code",
   "execution_count": 33,
   "metadata": {},
   "outputs": [
    {
     "name": "stdout",
     "output_type": "stream",
     "text": [
      "abcde\n",
      "15\n"
     ]
    }
   ],
   "source": [
    "'''Consider All lowercase Alphabets of the English language. Here we consider each alphabet from a to z to have a certain weight. The weight of the alphabet a is considered to be 1, b to be 2, c to be 3 and so on until z has a weight of 26. In short, the weight of the alphabet a is 1, and the weight of all other alphabets is the weight of its previous alphabet + 1.\n",
    "\n",
    "Now, you have been given a String S consisting of lowercase English characters. You need to find the summation of weight of each character in this String.\n",
    "\n",
    "For example, Consider the String aba\n",
    "\n",
    "Here, the first character a has a weight of 1, the second character b has 2 and the third character a again has a weight of 1. So the summation here is equal to : 1+2+1=4\n",
    "\n",
    "Input Format:The first and only line of input contains the String S.\n",
    "\n",
    "Output Format:Print the required answer on a single line\n",
    "\n",
    "Constraints:1≤|S|≤100\n",
    "\n",
    "SAMPLE INPUT : aba\n",
    "SAMPLE OUTPUT : 4'''\n",
    "n=input()\n",
    "s=0\n",
    "for i in n:\n",
    "    s+=ord(i)-96\n",
    "print(s)"
   ]
  },
  {
   "cell_type": "code",
   "execution_count": 34,
   "metadata": {},
   "outputs": [
    {
     "data": {
      "text/plain": [
       "[1, 2, 21, 3]"
      ]
     },
     "execution_count": 34,
     "metadata": {},
     "output_type": "execute_result"
    }
   ],
   "source": [
    "# find Highest Frequent Element\n",
    "def unique(l):\n",
    "    u=[]\n",
    "    for i in l:\n",
    "        if i not in u:\n",
    "            u.append(i)\n",
    "    return u"
   ]
  },
  {
   "cell_type": "code",
   "execution_count": 35,
   "metadata": {},
   "outputs": [
    {
     "data": {
      "text/plain": [
       "{1: 6, 3: 3, 32: 1, 2: 4}"
      ]
     },
     "execution_count": 35,
     "metadata": {},
     "output_type": "execute_result"
    }
   ],
   "source": [
    "def Freq(l):\n",
    "    d={}\n",
    "    u=unique(l)\n",
    "    for i in u:\n",
    "        d[i]=l.count(i)\n",
    "    return d\n",
    "Freq([1,1,1,1,1,1,3,3,3,32,2,2,2,2])\n",
    "        "
   ]
  },
  {
   "cell_type": "code",
   "execution_count": 47,
   "metadata": {},
   "outputs": [
    {
     "data": {
      "text/plain": [
       "-1"
      ]
     },
     "execution_count": 47,
     "metadata": {},
     "output_type": "execute_result"
    }
   ],
   "source": [
    "def kth(l,k):\n",
    "    u=unique(l)\n",
    "    d=Freq(l)\n",
    "    if k>len(u):\n",
    "        return -1\n",
    "    else:\n",
    "        r={}\n",
    "        s=sorted(list(d.values()),reverse=True)\n",
    "        rank=0\n",
    "        for i in s:\n",
    "            rank+=1\n",
    "            for j in d.items():\n",
    "                if i==j[1]:\n",
    "                    r[j[0]]=rank\n",
    "        for j in r.items():\n",
    "            if k==j[1]:\n",
    "                print(j[0])\n",
    "kth([1,1,1,1,2,3,2,3,1,1,2,1,1,4,2],5)        "
   ]
  },
  {
   "cell_type": "code",
   "execution_count": 52,
   "metadata": {},
   "outputs": [
    {
     "data": {
      "text/plain": [
       "34"
      ]
     },
     "execution_count": 52,
     "metadata": {},
     "output_type": "execute_result"
    }
   ],
   "source": [
    "def absdiff(n,m):\n",
    "    if m-n<0:\n",
    "        return -(m-n)\n",
    "    else:\n",
    "        return m-n\n",
    "absdiff(24,-10)"
   ]
  },
  {
   "cell_type": "code",
   "execution_count": null,
   "metadata": {},
   "outputs": [],
   "source": []
  }
 ],
 "metadata": {
  "kernelspec": {
   "display_name": "Python 3",
   "language": "python",
   "name": "python3"
  },
  "language_info": {
   "codemirror_mode": {
    "name": "ipython",
    "version": 3
   },
   "file_extension": ".py",
   "mimetype": "text/x-python",
   "name": "python",
   "nbconvert_exporter": "python",
   "pygments_lexer": "ipython3",
   "version": "3.7.3"
  }
 },
 "nbformat": 4,
 "nbformat_minor": 2
}
